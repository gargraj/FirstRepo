{
  "nbformat": 4,
  "nbformat_minor": 0,
  "metadata": {
    "colab": {
      "name": "TwitterSent.ipynb",
      "version": "0.3.2",
      "provenance": [],
      "collapsed_sections": []
    },
    "kernelspec": {
      "name": "python3",
      "display_name": "Python 3"
    },
    "accelerator": "GPU"
  },
  "cells": [
    {
      "cell_type": "markdown",
      "metadata": {
        "id": "view-in-github",
        "colab_type": "text"
      },
      "source": [
        "[View in Colaboratory](https://colab.research.google.com/github/gargraj/FirstRepo/blob/master/TwitterSent.ipynb)"
      ]
    },
    {
      "metadata": {
        "id": "nuQMms7VSSCE",
        "colab_type": "code",
        "colab": {
          "base_uri": "https://localhost:8080/",
          "height": 187
        },
        "outputId": "48529935-3774-4386-f79e-47c0056b591e"
      },
      "cell_type": "code",
      "source": [
        "!pip install tweepy"
      ],
      "execution_count": 1,
      "outputs": [
        {
          "output_type": "stream",
          "text": [
            "Requirement already satisfied: tweepy in /usr/local/lib/python3.6/dist-packages (3.6.0)\r\n",
            "Requirement already satisfied: PySocks>=1.5.7 in /usr/local/lib/python3.6/dist-packages (from tweepy) (1.6.8)\r\n",
            "Requirement already satisfied: requests-oauthlib>=0.7.0 in /usr/local/lib/python3.6/dist-packages (from tweepy) (0.8.0)\r\n",
            "Requirement already satisfied: six>=1.10.0 in /usr/local/lib/python3.6/dist-packages (from tweepy) (1.11.0)\r\n",
            "Requirement already satisfied: requests>=2.11.1 in /usr/local/lib/python3.6/dist-packages (from tweepy) (2.18.4)\n",
            "Requirement already satisfied: oauthlib>=0.6.2 in /usr/local/lib/python3.6/dist-packages (from requests-oauthlib>=0.7.0->tweepy) (2.0.7)\n",
            "Requirement already satisfied: chardet<3.1.0,>=3.0.2 in /usr/local/lib/python3.6/dist-packages (from requests>=2.11.1->tweepy) (3.0.4)\n",
            "Requirement already satisfied: urllib3<1.23,>=1.21.1 in /usr/local/lib/python3.6/dist-packages (from requests>=2.11.1->tweepy) (1.22)\n",
            "Requirement already satisfied: idna<2.7,>=2.5 in /usr/local/lib/python3.6/dist-packages (from requests>=2.11.1->tweepy) (2.6)\n",
            "Requirement already satisfied: certifi>=2017.4.17 in /usr/local/lib/python3.6/dist-packages (from requests>=2.11.1->tweepy) (2018.4.16)\n"
          ],
          "name": "stdout"
        }
      ]
    },
    {
      "metadata": {
        "id": "GX8V6KqFSuTh",
        "colab_type": "text"
      },
      "cell_type": "markdown",
      "source": [
        ""
      ]
    },
    {
      "metadata": {
        "id": "g0kKMRlESutK",
        "colab_type": "text"
      },
      "cell_type": "markdown",
      "source": [
        ""
      ]
    },
    {
      "metadata": {
        "id": "0XlB6qL-SvH5",
        "colab_type": "code",
        "colab": {
          "base_uri": "https://localhost:8080/",
          "height": 68
        },
        "outputId": "2c2198a9-a2b4-41b2-83c1-f299117b5b6b"
      },
      "cell_type": "code",
      "source": [
        "!pip install TextBlob"
      ],
      "execution_count": 2,
      "outputs": [
        {
          "output_type": "stream",
          "text": [
            "Requirement already satisfied: TextBlob in /usr/local/lib/python3.6/dist-packages (0.15.1)\r\n",
            "Requirement already satisfied: nltk>=3.1 in /usr/local/lib/python3.6/dist-packages (from TextBlob) (3.2.5)\r\n",
            "Requirement already satisfied: six in /usr/local/lib/python3.6/dist-packages (from nltk>=3.1->TextBlob) (1.11.0)\r\n"
          ],
          "name": "stdout"
        }
      ]
    },
    {
      "metadata": {
        "id": "gbUl_hRFS26K",
        "colab_type": "code",
        "colab": {}
      },
      "cell_type": "code",
      "source": [
        "import tweepy\n",
        "import textblob\n",
        "from textblob import TextBlob\n"
      ],
      "execution_count": 0,
      "outputs": []
    },
    {
      "metadata": {
        "id": "ttstl25ukov3",
        "colab_type": "code",
        "colab": {}
      },
      "cell_type": "code",
      "source": [
        "consumer_key = 'oy72LthohVFSJaayestcYGkAs'\n",
        "consumer_secret = 'RQIitpasgHpIeMxtxDxVSimCU8TEDnVWnwIzX7iGNWQMHIkd37'\n",
        "access_token = '3269967194-s6AiaEpfBwSBqU2G9yZSsoCRjQst9KjgKr6nlw5'\n",
        "access_token_secret = 'Fdeqkg6HrzdXHMn8HxnNWL7QxNy3LpYpqPZCuiJcaJpnc'"
      ],
      "execution_count": 0,
      "outputs": []
    },
    {
      "metadata": {
        "id": "y7lzzZ0HOVDQ",
        "colab_type": "code",
        "colab": {
          "base_uri": "https://localhost:8080/",
          "height": 836
        },
        "outputId": "3618e0c9-7d20-4e18-b85f-70a2932edb5a"
      },
      "cell_type": "code",
      "source": [
        "print('Welcome to twitterBot')\n",
        "print('what do yu want to perform')\n",
        "print('1.SearchTweet')\n",
        "print('2.AnalyzeTweetSentiment')\n",
        "print('3.checkLocation And Time')\n",
        "print('4.Update Status ')\n",
        "print('5. Remove Stopwords')\n",
        "x = int(input('Enter Your Choice'))\n",
        "if x==1:\n",
        "  print('You want to search tweet')\n",
        "  getSearch();\n",
        "elif x==2:\n",
        "  print('You want Analyze tweet')\n",
        "  analyzeTweet();\n",
        "elif x==3:\n",
        "  print('Yu want tocheck location and time')\n",
        "  checkLT();\n",
        "elif x==4:\n",
        "  print(\"You Want to update a status\")\n",
        "  UpdateStatus();\n",
        "elif x==5:\n",
        "  print('You Want To Remove Stopwords')\n",
        "  removeStopword();  \n",
        "else:\n",
        "  print('wrong choice')\n",
        "\n"
      ],
      "execution_count": 10,
      "outputs": [
        {
          "output_type": "stream",
          "text": [
            "Welcome to twitterBot\n",
            "what do yu want to perform\n",
            "1.SearchTweet\n",
            "2.AnalyzeTweetSentiment\n",
            "3.checkLocation And Time\n",
            "4.Update Status \n",
            "5. Remove Stopwords\n",
            "Enter Your Choice5\n",
            "You Want To Remove Stopwords\n",
            "Requirement already satisfied: nltk in /usr/local/lib/python3.6/dist-packages (3.2.5)\n",
            "Requirement already satisfied: six in /usr/local/lib/python3.6/dist-packages (from nltk) (1.11.0)\n",
            "[nltk_data] Downloading package punkt to /content/nltk_data...\n",
            "[nltk_data]   Package punkt is already up-to-date!\n",
            "[nltk_data] Downloading package stopwords to /content/nltk_data...\n",
            "[nltk_data]   Package stopwords is already up-to-date!\n",
            "enter the  hashtag=REALDONALDTRUMP\n",
            "Hell hath no fury like women scorned, @HouseGOP @SpeakerRyan @SenateGOP @SenateMajLdr @RealDonaldTrump @mike_pence… https://t.co/36h6f7om8d\n",
            "['Hell', 'hath', 'fury', 'like', 'women', 'scorned', ',', '@', 'HouseGOP', '@', 'SpeakerRyan', '@', 'SenateGOP', '@', 'SenateMajLdr', '@', 'RealDonaldTrump', '@', 'mike_pence…', 'https', ':', '//t.co/36h6f7om8d']\n",
            "RT @SamuelSako: The world is watching, #RwandaGenocide will be a joke. #bbcworldservice #cnn #NewYorkTimes are silent. #realDonaldTrump and…\n",
            "['RT', '@', 'SamuelSako', ':', 'The', 'world', 'watching', ',', '#', 'RwandaGenocide', 'joke', '.', '#', 'bbcworldservice', '#', 'cnn', '#', 'NewYorkTimes', 'silent', '.', '#', 'realDonaldTrump', 'and…']\n",
            "RT @megan_mcguir: Why are we talking about Hillary Clinton when 10 of my classmates and teachers died 2 days ago? Will we be forgotten abou…\n",
            "['RT', '@', 'megan_mcguir', ':', 'Why', 'talking', 'Hillary', 'Clinton', '10', 'classmates', 'teachers', 'died', '2', 'days', 'ago', '?', 'Will', 'forgotten', 'abou…']\n",
            "RT @Lastexan: @FoxNews @HillaryClinton @Yale @realDonaldTrump That woman radiates evil.\n",
            "['RT', '@', 'Lastexan', ':', '@', 'FoxNews', '@', 'HillaryClinton', '@', 'Yale', '@', 'realDonaldTrump', 'That', 'woman', 'radiates', 'evil', '.']\n",
            "RT @GovMikeHuckabee: On @MariaBartiromo today on @FoxBusiness and just returned from UK where I attempted to attend Royal wedding but not a…\n",
            "['RT', '@', 'GovMikeHuckabee', ':', 'On', '@', 'MariaBartiromo', 'today', '@', 'FoxBusiness', 'returned', 'UK', 'I', 'attempted', 'attend', 'Royal', 'wedding', 'a…']\n",
            "RT @ForrestCSmith: Hey Johnny boy @JohnBrennan sounds like you're getting a little \"defensive\"? Whatcha hiding? I think the world is about…\n",
            "['RT', '@', 'ForrestCSmith', ':', 'Hey', 'Johnny', 'boy', '@', 'JohnBrennan', 'sounds', 'like', \"'re\", 'getting', 'little', '``', 'defensive', \"''\", '?', 'Whatcha', 'hiding', '?', 'I', 'think', 'world', 'about…']\n",
            "RT @awaken_to_maga: Here's to the coming news &amp; to the coming storm.\n",
            "May your stories redpill a sleeping nation, &amp; may your rain bring May…\n",
            "['RT', '@', 'awaken_to_maga', ':', 'Here', \"'s\", 'coming', 'news', '&', 'amp', ';', 'coming', 'storm', '.', 'May', 'stories', 'redpill', 'sleeping', 'nation', ',', '&', 'amp', ';', 'may', 'rain', 'bring', 'May…']\n",
            "RT @mikebarnicle: Read Sunday AM tweets from @realDonaldTrump: they are a portrait of a man alone, paranoid, isolated, hearing the footstep…\n",
            "['RT', '@', 'mikebarnicle', ':', 'Read', 'Sunday', 'AM', 'tweets', '@', 'realDonaldTrump', ':', 'portrait', 'man', 'alone', ',', 'paranoid', ',', 'isolated', ',', 'hearing', 'footstep…']\n",
            "@realDonaldTrump Are you mental?\n",
            "['@', 'realDonaldTrump', 'Are', 'mental', '?']\n",
            "RT @TomSteyer: Last week, it was foreign bribes. This week, more obstruction of justice. Hey Congress, do you do anything anymore? https://…\n",
            "['RT', '@', 'TomSteyer', ':', 'Last', 'week', ',', 'foreign', 'bribes', '.', 'This', 'week', ',', 'obstruction', 'justice', '.', 'Hey', 'Congress', ',', 'anything', 'anymore', '?', 'https', ':', '//…']\n",
            "RT @RETTinol: @unscriptedmike @realDonaldTrump @seanhannity @JudgeJeanine @SaraCarterDC PRAY FOR PRESIDENT TRUMP✝️🙏🏻🇺🇸🙏🏻✝️\n",
            "['RT', '@', 'RETTinol', ':', '@', 'unscriptedmike', '@', 'realDonaldTrump', '@', 'seanhannity', '@', 'JudgeJeanine', '@', 'SaraCarterDC', 'PRAY', 'FOR', 'PRESIDENT', 'TRUMP✝️🙏🏻🇺🇸🙏🏻✝️']\n",
            "RT @The_UnSilent_: “I hereby demand?”\n",
            "\n",
            "It‘ s official, he’s made the full transition into King Joffrey 😐 https://t.co/JnQf21yNcY\n",
            "['RT', '@', 'The_UnSilent_', ':', '“', 'I', 'hereby', 'demand', '?', '”', 'It', '‘', 'official', ',', '’', 'made', 'full', 'transition', 'King', 'Joffrey', '😐', 'https', ':', '//t.co/JnQf21yNcY']\n",
            "#NEWSFLASH: @TheJusticeDept asks Inspector general Horowitz to investigate any impropriety or political motivation… https://t.co/uyGd31ctwg\n",
            "['#', 'NEWSFLASH', ':', '@', 'TheJusticeDept', 'asks', 'Inspector', 'general', 'Horowitz', 'investigate', 'impropriety', 'political', 'motivation…', 'https', ':', '//t.co/uyGd31ctwg']\n",
            "RT @TeaPainUSA: The House Intelligence Committee has already closed it's Russia investigation, Donald.  It's an honest mistake since you'd…\n",
            "['RT', '@', 'TeaPainUSA', ':', 'The', 'House', 'Intelligence', 'Committee', 'already', 'closed', \"'s\", 'Russia', 'investigation', ',', 'Donald', '.', 'It', \"'s\", 'honest', 'mistake', 'since', \"you'd…\"]\n"
          ],
          "name": "stdout"
        }
      ]
    },
    {
      "metadata": {
        "id": "OBhs3CR5lXVp",
        "colab_type": "code",
        "colab": {}
      },
      "cell_type": "code",
      "source": [
        "def getSearch():\n",
        "  y = input('enter the  hashtag')\n",
        "  oauth = tweepy.OAuthHandler(consumer_key,consumer_secret)\n",
        "  oauth.set_access_token(access_token,access_token_secret)\n",
        "  # Construct the API instance\n",
        "  api = tweepy.API(oauth)\n",
        "  public_tweets = api.search(y)\n",
        "  for tweets in public_tweets:\n",
        "    print(tweets.text)\n",
        "    print(\"------------------------------\")\n",
        "    "
      ],
      "execution_count": 0,
      "outputs": []
    },
    {
      "metadata": {
        "id": "mNVSiYmOmTTh",
        "colab_type": "code",
        "colab": {}
      },
      "cell_type": "code",
      "source": [
        "def analyzeTweet():\n",
        "  z = input('enter the  hashtag')\n",
        "  oauth = tweepy.OAuthHandler(consumer_key,consumer_secret)\n",
        "  oauth.set_access_token(access_token,access_token_secret)\n",
        "  # Construct the API instance\n",
        "  api = tweepy.API(oauth)\n",
        "  public_tweets = api.search(z)\n",
        "  for tweets in public_tweets:\n",
        "    print(tweets.text)\n",
        "    analyze = TextBlob(tweets.text)\n",
        "    print(analyze.sentiment)\n",
        "    print(analyze.detect_language())\n",
        "    print(\"------------------------------\")\n",
        "    \n",
        "  "
      ],
      "execution_count": 0,
      "outputs": []
    },
    {
      "metadata": {
        "id": "1H0-1ETZC9YY",
        "colab_type": "code",
        "colab": {}
      },
      "cell_type": "code",
      "source": [
        "def checkLT():\n",
        "  z = input('enter the  hashtag')\n",
        "  oauth = tweepy.OAuthHandler(consumer_key,consumer_secret)\n",
        "  oauth.set_access_token(access_token,access_token_secret)\n",
        "  # Construct the API instance\n",
        "  api = tweepy.API(oauth)\n",
        "  public_tweets = api.search(z)\n",
        "  for tweets in public_tweets:\n",
        "    print(tweets.text)\n",
        "    print(\"Author Name Is-\",tweets.author.name)\n",
        "    print(\"Tweet  Is Crated On\",tweets.created_at)\n",
        "    print(\"Tweet Is Generated From -\",tweets.author.location)\n",
        "    print(\"%s has followers count of %s\" % (tweets.author.name,tweets.author.followers_count))\n",
        "    print(\"------------------------------\")"
      ],
      "execution_count": 0,
      "outputs": []
    },
    {
      "metadata": {
        "id": "0RA3JxzYCgmn",
        "colab_type": "code",
        "colab": {}
      },
      "cell_type": "code",
      "source": [
        "def UpdateStatus():\n",
        "  stat = input(\"Enter The Status You Want To Update\")\n",
        "  oauth = tweepy.OAuthHandler(consumer_key,consumer_secret)\n",
        "  oauth.set_access_token(access_token,access_token_secret)\n",
        "    # Construct the API instance\n",
        "  api = tweepy.API(oauth)\n",
        "  api.update_status(stat)\n",
        "  print(\"Cool!! Status Updated Sucessfully\")"
      ],
      "execution_count": 0,
      "outputs": []
    },
    {
      "metadata": {
        "id": "6PehSxMi-Byj",
        "colab_type": "code",
        "colab": {}
      },
      "cell_type": "code",
      "source": [
        "def removeStopword():\n",
        "  !pip install nltk\n",
        "  import nltk\n",
        "  nltk.download('punkt')\n",
        "  from nltk.tokenize import word_tokenize\n",
        "  from nltk.corpus import stopwords\n",
        "  nltk.download('stopwords')\n",
        "  stop_words = set(stopwords.words('english'))\n",
        "  y = input('enter the  hashtag=')\n",
        "  oauth = tweepy.OAuthHandler(consumer_key,consumer_secret)\n",
        "  oauth.set_access_token(access_token,access_token_secret)\n",
        "    # Construct the API instance\n",
        "  api = tweepy.API(oauth)\n",
        "  public_tweets = api.search(y)\n",
        "  for tweets in public_tweets:\n",
        "    if(tweets.lang=='en'):\n",
        "      word=word_tokenize(tweets.text)\n",
        "      filter=[w for w in word if not w in stop_words]\n",
        "      print(tweets.text)\n",
        "      print(filter)\n",
        "     \n",
        "  "
      ],
      "execution_count": 0,
      "outputs": []
    }
  ]
}